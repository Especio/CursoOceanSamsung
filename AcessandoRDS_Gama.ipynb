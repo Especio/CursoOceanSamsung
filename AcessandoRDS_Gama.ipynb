{
  "nbformat": 4,
  "nbformat_minor": 0,
  "metadata": {
    "colab": {
      "name": "AcessandoRDS-Gama.ipynb",
      "provenance": [],
      "toc_visible": true,
      "include_colab_link": true
    },
    "kernelspec": {
      "name": "python3",
      "display_name": "Python 3"
    },
    "language_info": {
      "name": "python"
    }
  },
  "cells": [
    {
      "cell_type": "markdown",
      "metadata": {
        "id": "view-in-github",
        "colab_type": "text"
      },
      "source": [
        "<a href=\"https://colab.research.google.com/github/Especio/CursoOceanSamsung/blob/main/AcessandoRDS_Gama.ipynb\" target=\"_parent\"><img src=\"https://colab.research.google.com/assets/colab-badge.svg\" alt=\"Open In Colab\"/></a>"
      ]
    },
    {
      "cell_type": "code",
      "metadata": {
        "colab": {
          "base_uri": "https://localhost:8080/"
        },
        "id": "zqJdQMiL9CXw",
        "outputId": "f4e3f577-4800-4b16-f068-48d963cfa487"
      },
      "source": [
        "!pip install mysql-connector-python"
      ],
      "execution_count": null,
      "outputs": [
        {
          "output_type": "stream",
          "text": [
            "Requirement already satisfied: mysql-connector-python in /usr/local/lib/python3.7/dist-packages (8.0.25)\n",
            "Requirement already satisfied: protobuf>=3.0.0 in /usr/local/lib/python3.7/dist-packages (from mysql-connector-python) (3.12.4)\n",
            "Requirement already satisfied: setuptools in /usr/local/lib/python3.7/dist-packages (from protobuf>=3.0.0->mysql-connector-python) (57.0.0)\n",
            "Requirement already satisfied: six>=1.9 in /usr/local/lib/python3.7/dist-packages (from protobuf>=3.0.0->mysql-connector-python) (1.15.0)\n"
          ],
          "name": "stdout"
        }
      ]
    },
    {
      "cell_type": "code",
      "metadata": {
        "id": "_84ACqnl8DA9"
      },
      "source": [
        "import mysql"
      ],
      "execution_count": null,
      "outputs": []
    },
    {
      "cell_type": "code",
      "metadata": {
        "colab": {
          "base_uri": "https://localhost:8080/"
        },
        "id": "oI6MgwUp8WDN",
        "outputId": "f6d74147-fbe9-40a7-cd97-653bfc5a1d4c"
      },
      "source": [
        "import mysql.connector\n",
        "from getpass import getpass\n",
        "\n",
        "mydb = mysql.connector.connect(\n",
        "  host=\"gama.cqzlekc8lkwt.us-east-2.rds.amazonaws.com\",\n",
        "  user=\"admin\",\n",
        "  password=getpass(\"yourpassword?\"),\n",
        "  database=\"information_schema\"\n",
        ")\n",
        "\n",
        "print(mydb)"
      ],
      "execution_count": null,
      "outputs": [
        {
          "output_type": "stream",
          "text": [
            "yourpassword?··········\n",
            "<mysql.connector.connection_cext.CMySQLConnection object at 0x7f0650e1c850>\n"
          ],
          "name": "stdout"
        }
      ]
    },
    {
      "cell_type": "code",
      "metadata": {
        "colab": {
          "base_uri": "https://localhost:8080/"
        },
        "id": "E2eLPvxM9lBE",
        "outputId": "560ee354-316a-4aa5-b893-eee774e53b5b"
      },
      "source": [
        "mycursor = mydb.cursor()\n",
        "\n",
        "mycursor.execute(\"SHOW TABLES\")\n",
        "\n",
        "for x in mycursor:\n",
        "  print(x)"
      ],
      "execution_count": null,
      "outputs": [
        {
          "output_type": "stream",
          "text": [
            "('CHARACTER_SETS',)\n",
            "('CHECK_CONSTRAINTS',)\n",
            "('COLLATIONS',)\n",
            "('COLLATION_CHARACTER_SET_APPLICABILITY',)\n",
            "('COLUMNS',)\n",
            "('COLUMN_PRIVILEGES',)\n",
            "('COLUMN_STATISTICS',)\n",
            "('ENGINES',)\n",
            "('EVENTS',)\n",
            "('FILES',)\n",
            "('INNODB_BUFFER_PAGE',)\n",
            "('INNODB_BUFFER_PAGE_LRU',)\n",
            "('INNODB_BUFFER_POOL_STATS',)\n",
            "('INNODB_CACHED_INDEXES',)\n",
            "('INNODB_CMP',)\n",
            "('INNODB_CMPMEM',)\n",
            "('INNODB_CMPMEM_RESET',)\n",
            "('INNODB_CMP_PER_INDEX',)\n",
            "('INNODB_CMP_PER_INDEX_RESET',)\n",
            "('INNODB_CMP_RESET',)\n",
            "('INNODB_COLUMNS',)\n",
            "('INNODB_DATAFILES',)\n",
            "('INNODB_FIELDS',)\n",
            "('INNODB_FOREIGN',)\n",
            "('INNODB_FOREIGN_COLS',)\n",
            "('INNODB_FT_BEING_DELETED',)\n",
            "('INNODB_FT_CONFIG',)\n",
            "('INNODB_FT_DEFAULT_STOPWORD',)\n",
            "('INNODB_FT_DELETED',)\n",
            "('INNODB_FT_INDEX_CACHE',)\n",
            "('INNODB_FT_INDEX_TABLE',)\n",
            "('INNODB_INDEXES',)\n",
            "('INNODB_METRICS',)\n",
            "('INNODB_SESSION_TEMP_TABLESPACES',)\n",
            "('INNODB_TABLES',)\n",
            "('INNODB_TABLESPACES',)\n",
            "('INNODB_TABLESPACES_BRIEF',)\n",
            "('INNODB_TABLESTATS',)\n",
            "('INNODB_TEMP_TABLE_INFO',)\n",
            "('INNODB_TRX',)\n",
            "('INNODB_VIRTUAL',)\n",
            "('KEYWORDS',)\n",
            "('KEY_COLUMN_USAGE',)\n",
            "('OPTIMIZER_TRACE',)\n",
            "('PARAMETERS',)\n",
            "('PARTITIONS',)\n",
            "('PLUGINS',)\n",
            "('PROCESSLIST',)\n",
            "('PROFILING',)\n",
            "('RDS_EVENTS_THREADS_WAITS_CURRENT',)\n",
            "('RDS_PROCESSLIST',)\n",
            "('REFERENTIAL_CONSTRAINTS',)\n",
            "('RESOURCE_GROUPS',)\n",
            "('ROUTINES',)\n",
            "('SCHEMATA',)\n",
            "('SCHEMA_PRIVILEGES',)\n",
            "('STATISTICS',)\n",
            "('ST_GEOMETRY_COLUMNS',)\n",
            "('ST_SPATIAL_REFERENCE_SYSTEMS',)\n",
            "('ST_UNITS_OF_MEASURE',)\n",
            "('TABLES',)\n",
            "('TABLESPACES',)\n",
            "('TABLE_CONSTRAINTS',)\n",
            "('TABLE_PRIVILEGES',)\n",
            "('TRIGGERS',)\n",
            "('USER_PRIVILEGES',)\n",
            "('VIEWS',)\n",
            "('VIEW_ROUTINE_USAGE',)\n",
            "('VIEW_TABLE_USAGE',)\n"
          ],
          "name": "stdout"
        }
      ]
    },
    {
      "cell_type": "code",
      "metadata": {
        "colab": {
          "base_uri": "https://localhost:8080/"
        },
        "id": "ap4JPNcU9v53",
        "outputId": "e38e41fd-47a0-44d8-a263-6f95db5dcd11"
      },
      "source": [
        "mycursor.execute(\"SELECT * FROM TABLES LIMIT 10\")\n",
        "for x in mycursor:\n",
        "  print(x)"
      ],
      "execution_count": null,
      "outputs": [
        {
          "output_type": "stream",
          "text": [
            "('def', 'mysql', 'innodb_table_stats', 'BASE TABLE', 'InnoDB', 10, 'Dynamic', 8, 2048, 16384, 0, 0, 4194304, None, datetime.datetime(2020, 7, 26, 11, 6, 7), datetime.datetime(2021, 6, 3, 22, 15, 43), None, 'utf8_bin', None, 'row_format=DYNAMIC stats_persistent=0', '')\n",
            "('def', 'mysql', 'innodb_index_stats', 'BASE TABLE', 'InnoDB', 10, 'Dynamic', 27, 606, 16384, 0, 0, 4194304, None, datetime.datetime(2020, 7, 26, 11, 6, 7), datetime.datetime(2021, 6, 3, 22, 15, 43), None, 'utf8_bin', None, 'row_format=DYNAMIC stats_persistent=0', '')\n",
            "('def', 'information_schema', 'CHARACTER_SETS', 'SYSTEM VIEW', None, 10, None, 0, 0, 0, 0, 0, 0, None, datetime.datetime(2020, 7, 26, 11, 6, 9), None, None, None, None, '', '')\n",
            "('def', 'information_schema', 'CHECK_CONSTRAINTS', 'SYSTEM VIEW', None, 10, None, 0, 0, 0, 0, 0, 0, None, datetime.datetime(2020, 7, 26, 11, 6, 9), None, None, None, None, '', '')\n",
            "('def', 'information_schema', 'COLLATIONS', 'SYSTEM VIEW', None, 10, None, 0, 0, 0, 0, 0, 0, None, datetime.datetime(2020, 7, 26, 11, 6, 9), None, None, None, None, '', '')\n",
            "('def', 'information_schema', 'COLLATION_CHARACTER_SET_APPLICABILITY', 'SYSTEM VIEW', None, 10, None, 0, 0, 0, 0, 0, 0, None, datetime.datetime(2020, 7, 26, 11, 6, 9), None, None, None, None, '', '')\n",
            "('def', 'information_schema', 'COLUMNS', 'SYSTEM VIEW', None, 10, None, 0, 0, 0, 0, 0, 0, None, datetime.datetime(2020, 7, 26, 11, 6, 9), None, None, None, None, '', '')\n",
            "('def', 'information_schema', 'COLUMN_STATISTICS', 'SYSTEM VIEW', None, 10, None, 0, 0, 0, 0, 0, 0, None, datetime.datetime(2020, 7, 26, 11, 6, 9), None, None, None, None, '', '')\n",
            "('def', 'information_schema', 'EVENTS', 'SYSTEM VIEW', None, 10, None, 0, 0, 0, 0, 0, 0, None, datetime.datetime(2020, 7, 26, 11, 6, 9), None, None, None, None, '', '')\n",
            "('def', 'information_schema', 'FILES', 'SYSTEM VIEW', None, 10, None, 0, 0, 0, 0, 0, 0, None, datetime.datetime(2020, 7, 26, 11, 6, 9), None, None, None, None, '', '')\n"
          ],
          "name": "stdout"
        }
      ]
    },
    {
      "cell_type": "code",
      "metadata": {
        "colab": {
          "base_uri": "https://localhost:8080/"
        },
        "id": "HC1u-1WC-Ahh",
        "outputId": "fd5cd723-323f-4dd8-8af0-ff88c1453d91"
      },
      "source": [
        "mycursor.close()"
      ],
      "execution_count": null,
      "outputs": [
        {
          "output_type": "execute_result",
          "data": {
            "text/plain": [
              "True"
            ]
          },
          "metadata": {
            "tags": []
          },
          "execution_count": 19
        }
      ]
    },
    {
      "cell_type": "code",
      "metadata": {
        "colab": {
          "base_uri": "https://localhost:8080/",
          "height": 316
        },
        "id": "ELbcEg9S-MS2",
        "outputId": "6cc25236-63e0-49e5-89c5-4b65696f2336"
      },
      "source": [
        "# cursor fechado\n",
        "mycursor.execute(\"SELECT * FROM TABLES LIMIT 10\")\n",
        "for x in mycursor:\n",
        "  print(x)"
      ],
      "execution_count": null,
      "outputs": [
        {
          "output_type": "error",
          "ename": "ProgrammingError",
          "evalue": "ignored",
          "traceback": [
            "\u001b[0;31m---------------------------------------------------------------------------\u001b[0m",
            "\u001b[0;31mProgrammingError\u001b[0m                          Traceback (most recent call last)",
            "\u001b[0;32m<ipython-input-20-370d41915f59>\u001b[0m in \u001b[0;36m<module>\u001b[0;34m()\u001b[0m\n\u001b[0;32m----> 1\u001b[0;31m \u001b[0mmycursor\u001b[0m\u001b[0;34m.\u001b[0m\u001b[0mexecute\u001b[0m\u001b[0;34m(\u001b[0m\u001b[0;34m\"SELECT * FROM TABLES LIMIT 10\"\u001b[0m\u001b[0;34m)\u001b[0m\u001b[0;34m\u001b[0m\u001b[0;34m\u001b[0m\u001b[0m\n\u001b[0m\u001b[1;32m      2\u001b[0m \u001b[0;32mfor\u001b[0m \u001b[0mx\u001b[0m \u001b[0;32min\u001b[0m \u001b[0mmycursor\u001b[0m\u001b[0;34m:\u001b[0m\u001b[0;34m\u001b[0m\u001b[0;34m\u001b[0m\u001b[0m\n\u001b[1;32m      3\u001b[0m   \u001b[0mprint\u001b[0m\u001b[0;34m(\u001b[0m\u001b[0mx\u001b[0m\u001b[0;34m)\u001b[0m\u001b[0;34m\u001b[0m\u001b[0;34m\u001b[0m\u001b[0m\n",
            "\u001b[0;32m/usr/local/lib/python3.7/dist-packages/mysql/connector/cursor_cext.py\u001b[0m in \u001b[0;36mexecute\u001b[0;34m(self, operation, params, multi)\u001b[0m\n\u001b[1;32m    240\u001b[0m \u001b[0;34m\u001b[0m\u001b[0m\n\u001b[1;32m    241\u001b[0m         \u001b[0;32mif\u001b[0m \u001b[0;32mnot\u001b[0m \u001b[0mself\u001b[0m\u001b[0;34m.\u001b[0m\u001b[0m_cnx\u001b[0m \u001b[0;32mor\u001b[0m \u001b[0mself\u001b[0m\u001b[0;34m.\u001b[0m\u001b[0m_cnx\u001b[0m\u001b[0;34m.\u001b[0m\u001b[0mis_closed\u001b[0m\u001b[0;34m(\u001b[0m\u001b[0;34m)\u001b[0m\u001b[0;34m:\u001b[0m\u001b[0;34m\u001b[0m\u001b[0;34m\u001b[0m\u001b[0m\n\u001b[0;32m--> 242\u001b[0;31m             \u001b[0;32mraise\u001b[0m \u001b[0merrors\u001b[0m\u001b[0;34m.\u001b[0m\u001b[0mProgrammingError\u001b[0m\u001b[0;34m(\u001b[0m\u001b[0;34m\"Cursor is not connected\"\u001b[0m\u001b[0;34m,\u001b[0m \u001b[0;36m2055\u001b[0m\u001b[0;34m)\u001b[0m\u001b[0;34m\u001b[0m\u001b[0;34m\u001b[0m\u001b[0m\n\u001b[0m\u001b[1;32m    243\u001b[0m         \u001b[0mself\u001b[0m\u001b[0;34m.\u001b[0m\u001b[0m_cnx\u001b[0m\u001b[0;34m.\u001b[0m\u001b[0mhandle_unread_result\u001b[0m\u001b[0;34m(\u001b[0m\u001b[0;34m)\u001b[0m\u001b[0;34m\u001b[0m\u001b[0;34m\u001b[0m\u001b[0m\n\u001b[1;32m    244\u001b[0m \u001b[0;34m\u001b[0m\u001b[0m\n",
            "\u001b[0;31mProgrammingError\u001b[0m: 2055: Cursor is not connected"
          ]
        }
      ]
    }
  ]
}